{
 "cells": [
  {
   "cell_type": "markdown",
   "metadata": {},
   "source": [
    "## Importing Libraries"
   ]
  },
  {
   "cell_type": "code",
   "execution_count": 1,
   "metadata": {},
   "outputs": [],
   "source": [
    "import cv2\n",
    "import numpy as np\n",
    "import glob\n",
    "import os\n",
    "import random\n",
    "from PIL import Image\n",
    "import requests\n",
    "import json\n",
    "import glob \n",
    "from PIL import ImageFont\n",
    "from PIL import ImageDraw\n",
    "\n",
    "#Create Video suing video chunks\n",
    "#Create 3 Videos for a JSON file"
   ]
  },
  {
   "cell_type": "markdown",
   "metadata": {},
   "source": [
    "## Read JSON"
   ]
  },
  {
   "cell_type": "code",
   "execution_count": 2,
   "metadata": {},
   "outputs": [],
   "source": [
    "with open('Json/tagline5.json') as f:\n",
    "    data = json.load(f)"
   ]
  },
  {
   "cell_type": "code",
   "execution_count": 3,
   "metadata": {},
   "outputs": [],
   "source": [
    "tagline = str(data['data'][0]['tagLine'])\n",
    "\n",
    "\n",
    "keywords = []\n",
    "for i in range(len(data['data'])):\n",
    "    keywords.append(data['data'][i]['keyword'])"
   ]
  },
  {
   "cell_type": "markdown",
   "metadata": {},
   "source": [
    "## Get & Edit Images"
   ]
  },
  {
   "cell_type": "code",
   "execution_count": 4,
   "metadata": {},
   "outputs": [],
   "source": [
    "font = ImageFont.truetype(\"/Users/ayaz/Desktop/Misc/times-ro.ttf\", 188)\n",
    "\n",
    "# img = Image.open('pics/cats.jpeg')\n",
    "\n",
    "# draw = ImageDraw.Draw(img)\n",
    "# draw.text((100, 200),\"CATS\",(0,0,0),font=font)\n",
    "\n",
    "# img.save('eiffel_tower_02.png')"
   ]
  },
  {
   "cell_type": "code",
   "execution_count": 5,
   "metadata": {},
   "outputs": [
    {
     "name": "stdout",
     "output_type": "stream",
     "text": [
      "/Users/ayaz/Desktop/Misc/pics\n"
     ]
    }
   ],
   "source": [
    "%cd pics\n",
    "from pexelsPy import API\n",
    "PEXELS_API = \"563492ad6f91700001000001f71c408e552945e58a9c8a4a68bc5333\"\n",
    "api = API(PEXELS_API)\n",
    "\n",
    "for keyword in keywords:\n",
    "    api.search_photos(keyword,page=1, results_per_page=1)    \n",
    "    photos = api.get_photos()\n",
    "\n",
    "    for data in photos:\n",
    "        #Saving the Image\n",
    "        response = requests.get(data.original)\n",
    "        fname = keyword + '.png'\n",
    "        file = open(fname, \"wb\")\n",
    "        file.write(response.content)\n",
    "        \n",
    "        #Editing the Image\n",
    "        img = Image.open(fname)\n",
    "        draw = ImageDraw.Draw(img)\n",
    "        draw.text((200, 200),keyword,(237, 21, 21),font=font, fontsize = 188)\n",
    "        img.save(fname)\n",
    "        \n",
    "file.close()"
   ]
  },
  {
   "cell_type": "markdown",
   "metadata": {},
   "source": [
    "## Generate Slideshow"
   ]
  },
  {
   "cell_type": "code",
   "execution_count": 6,
   "metadata": {},
   "outputs": [
    {
     "name": "stdout",
     "output_type": "stream",
     "text": [
      "/Users/ayaz/Desktop/Misc\n",
      "pics/world.png\n",
      "pics/travel.png\n",
      "pics/cats.png\n",
      "pics/words.png\n",
      "pics/driving.png\n"
     ]
    }
   ],
   "source": [
    "%cd ..\n",
    "class Image:\n",
    "    def __init__(self, filename, time=500, size=500):\n",
    "        self.size = size\n",
    "        self.time = time\n",
    "        self.shifted = 0.0\n",
    "        self.img = cv2.imread(filename)\n",
    "        self.height, self.width, _ = self.img.shape\n",
    "        if self.width < self.height:\n",
    "            self.height = int(self.height*size/self.width)\n",
    "            self.width = size\n",
    "            self.img = cv2.resize(self.img, (self.width, self.height))\n",
    "            self.shift = self.height - size\n",
    "            self.shift_height = True\n",
    "        else:\n",
    "            self.width = int(self.width*size/self.height)\n",
    "            self.height = size\n",
    "            self.shift = self.width - size\n",
    "            self.img = cv2.resize(self.img, (self.width, self.height))\n",
    "            self.shift_height = False\n",
    "        self.delta_shift = self.shift/self.time\n",
    "\n",
    "    def reset(self):\n",
    "        if random.randint(0, 1) == 0:\n",
    "            self.shifted = 0.0\n",
    "            self.delta_shift = abs(self.delta_shift)\n",
    "        else:\n",
    "            self.shifted = self.shift\n",
    "            self.delta_shift = -abs(self.delta_shift)\n",
    "\n",
    "    def get_frame(self):\n",
    "        if self.shift_height:\n",
    "            roi = self.img[int(self.shifted):int(self.shifted) + self.size, :, :]\n",
    "        else:\n",
    "            roi = self.img[:, int(self.shifted):int(self.shifted) + self.size, :]\n",
    "        self.shifted += self.delta_shift\n",
    "        if self.shifted > self.shift:\n",
    "            self.shifted = self.shift\n",
    "        if self.shifted < 0:\n",
    "            self.shifted = 0\n",
    "        return roi\n",
    "\n",
    "def process():\n",
    "    path = \"pics\"\n",
    "    filenames = glob.glob(os.path.join(path, \"*\"))\n",
    "\n",
    "    cnt = 0\n",
    "    images = []\n",
    "    for filename in filenames:\n",
    "        print(filename)\n",
    "\n",
    "        img = Image(filename)\n",
    "\n",
    "        images.append(img)\n",
    "        if cnt > 300:\n",
    "            break\n",
    "        cnt += 1\n",
    "\n",
    "    prev_image = images[random.randrange(0, len(images))]\n",
    "    prev_image.reset()\n",
    "\n",
    "    while True:\n",
    "        while True:\n",
    "            img = images[random.randrange(0, len(images))]\n",
    "            if img != prev_image:\n",
    "                break\n",
    "        img.reset()\n",
    "\n",
    "        for i in range(100):\n",
    "            alpha = i/100\n",
    "            beta = 1.0 - alpha\n",
    "            dst = cv2.addWeighted(img.get_frame(), alpha, prev_image.get_frame(), beta, 0.0)\n",
    "\n",
    "            cv2.imshow(\"Slide\", dst)\n",
    "            if cv2.waitKey(1) == ord('q'):\n",
    "                return\n",
    "\n",
    "        prev_image = img\n",
    "        for _ in range(300):\n",
    "            cv2.imshow(\"Slide\", img.get_frame())\n",
    "            if cv2.waitKey(1) == ord('q'):\n",
    "                return\n",
    "        \n",
    "process()"
   ]
  }
 ],
 "metadata": {
  "kernelspec": {
   "display_name": "Python 3",
   "language": "python",
   "name": "python3"
  },
  "language_info": {
   "codemirror_mode": {
    "name": "ipython",
    "version": 3
   },
   "file_extension": ".py",
   "mimetype": "text/x-python",
   "name": "python",
   "nbconvert_exporter": "python",
   "pygments_lexer": "ipython3",
   "version": "3.8.3"
  }
 },
 "nbformat": 4,
 "nbformat_minor": 4
}
